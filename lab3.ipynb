{
 "cells": [
  {
   "cell_type": "code",
   "id": "initial_id",
   "metadata": {
    "collapsed": true,
    "ExecuteTime": {
     "end_time": "2025-03-10T07:31:56.465505Z",
     "start_time": "2025-03-10T07:31:55.999024Z"
    }
   },
   "source": "import numpy as np",
   "outputs": [],
   "execution_count": 2
  },
  {
   "metadata": {
    "ExecuteTime": {
     "end_time": "2025-03-10T07:31:56.490988Z",
     "start_time": "2025-03-10T07:31:56.484658Z"
    }
   },
   "cell_type": "code",
   "source": [
    "def compute_characteristic_polynomial(coeffs, n):\n",
    "    \"\"\"Generate the characteristic polynomial as a string.\"\"\"\n",
    "    poly_terms = []\n",
    "    for i, coeff in enumerate(coeffs[1:], start=1):\n",
    "        sign = \"+\" if coeff >= 0 else \"-\"\n",
    "        term = f\"{sign} {abs(coeff):.0f}λ^{n - i}\"\n",
    "        poly_terms.append(term)\n",
    "    return \"det(A - λI) = \" + \" \".join(poly_terms)"
   ],
   "id": "c22ec21187e80ca5",
   "outputs": [],
   "execution_count": 3
  },
  {
   "metadata": {
    "ExecuteTime": {
     "end_time": "2025-03-10T07:31:56.547508Z",
     "start_time": "2025-03-10T07:31:56.523749Z"
    }
   },
   "cell_type": "code",
   "source": [
    "def leverrier_method(A):\n",
    "    n = A.shape[0]\n",
    "    coeffs = np.zeros(n + 1)\n",
    "    coeffs[0] = 1\n",
    "\n",
    "    traces = np.zeros(n)\n",
    "    matrix_powers = np.eye(n)  # Identity matrix\n",
    "\n",
    "    for k in range(1, n + 1):\n",
    "        # Calculate A^k and its trace\n",
    "        matrix_powers = A @ matrix_powers\n",
    "        traces[k - 1] = np.trace(matrix_powers)\n",
    "\n",
    "        # Compute summation term for the current coefficient\n",
    "        summation_term = sum(traces[m] * coeffs[k - 1 - m] for m in range(k - 1))\n",
    "\n",
    "        # Update the k-th coefficient\n",
    "        coeffs[k] = (traces[k - 1] - summation_term) / k\n",
    "\n",
    "        # Print intermediate results\n",
    "        print(f\"S_{k} = tr(A^{k}) = {traces[k - 1]:.0f}\")\n",
    "        print(f\"p_{k} = ({traces[k - 1]:.0f} - {summation_term:.0f}) / {k} = {coeffs[k]:.0f}\")\n",
    "        print(\"-\" * 40)\n",
    "\n",
    "    # Display characteristic polynomial\n",
    "    print(\"\\nCharacteristic Polynomial:\")\n",
    "    print(compute_characteristic_polynomial(coeffs, n))\n",
    "\n",
    "    # Calculate and display roots\n",
    "    roots = np.roots(np.concatenate(([1], -coeffs[1:])))\n",
    "    print(\"\\nRoots of the characteristic polynomial (λ):\")\n",
    "    for root in roots:\n",
    "        print(f\"λ = {root:.3f}\")\n",
    "\n",
    "    return coeffs\n",
    "\n",
    "\n",
    "A = np.array([\n",
    "    [2, -1, 0],\n",
    "    [-1, 2, -1],\n",
    "    [0, -1, 2]\n",
    "])\n",
    "leverrier_method(A)\n"
   ],
   "id": "467b977daa977753",
   "outputs": [
    {
     "name": "stdout",
     "output_type": "stream",
     "text": [
      "S_1 = tr(A^1) = 6\n",
      "p_1 = (6 - 0) / 1 = 6\n",
      "----------------------------------------\n",
      "S_2 = tr(A^2) = 16\n",
      "p_2 = (16 - 36) / 2 = -10\n",
      "----------------------------------------\n",
      "S_3 = tr(A^3) = 48\n",
      "p_3 = (48 - 36) / 3 = 4\n",
      "----------------------------------------\n",
      "\n",
      "Characteristic Polynomial:\n",
      "det(A - λI) = + 6λ^2 - 10λ^1 + 4λ^0\n",
      "\n",
      "Roots of the characteristic polynomial (λ):\n",
      "λ = 3.414\n",
      "λ = 2.000\n",
      "λ = 0.586\n"
     ]
    },
    {
     "data": {
      "text/plain": [
       "array([  1.,   6., -10.,   4.])"
      ]
     },
     "execution_count": 4,
     "metadata": {},
     "output_type": "execute_result"
    }
   ],
   "execution_count": 4
  }
 ],
 "metadata": {
  "kernelspec": {
   "display_name": "Python 3",
   "language": "python",
   "name": "python3"
  },
  "language_info": {
   "codemirror_mode": {
    "name": "ipython",
    "version": 2
   },
   "file_extension": ".py",
   "mimetype": "text/x-python",
   "name": "python",
   "nbconvert_exporter": "python",
   "pygments_lexer": "ipython2",
   "version": "2.7.6"
  }
 },
 "nbformat": 4,
 "nbformat_minor": 5
}
