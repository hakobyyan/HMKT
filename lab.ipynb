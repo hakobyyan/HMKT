{
 "cells": [
  {
   "metadata": {},
   "cell_type": "code",
   "source": "import numpy as np",
   "outputs": [],
   "execution_count": null
  },
  {
   "metadata": {},
   "cell_type": "code",
   "source": [
    "def print_matrix(matrix):\n",
    "    for row in matrix:\n",
    "        print([round(elem, 4) for elem in row])"
   ],
   "outputs": [],
   "execution_count": null
  },
  {
   "metadata": {},
   "cell_type": "code",
   "source": [
    "def make_spd_gauss_jordan(A):\n",
    "    n = A.shape[0]\n",
    "    if A.shape[1] != n:\n",
    "        raise ValueError(\"Matrix must be square.\")\n",
    "    A = 0.5 * (A + A.T)\n",
    "\n",
    "    for i in range(n):\n",
    "        if A[i, i] <= 0:\n",
    "            A[i, i] = abs(A[i, i]) + 1  # Ensure diagonal is positive\n",
    "\n",
    "        for j in range(n):\n",
    "            if i != j:\n",
    "                A[i, j] = (A[i, j] + A[j, i]) / 2  # Force symmetry\n",
    "\n",
    "    eigvals, _ = np.linalg.eigh(A)\n",
    "    min_eig = min(eigvals)\n",
    "\n",
    "    if min_eig <= 0:\n",
    "        A += np.eye(n) * (abs(min_eig) + 1e-6)  # Shift diagonal to make positive definite\n",
    "\n",
    "    return A"
   ],
   "outputs": [],
   "execution_count": null
  },
  {
   "metadata": {},
   "cell_type": "code",
   "source": [
    "def check_positive_defininte(matrix):\n",
    "    matrix = np.array(matrix)\n",
    "    if  np.array_equal(matrix, matrix.T):\n",
    "        eigenvalues = np.linalg.eigvals(matrix)\n",
    "        print(f\"Eigenvalues: {eigenvalues}\")\n",
    "        return np.all(eigenvalues > 0)\n",
    "    else:\n",
    "        print(\"Matrix is not symmetric.\")\n",
    "        return False"
   ],
   "outputs": [],
   "execution_count": null
  },
  {
   "metadata": {},
   "cell_type": "code",
   "source": [
    "def gauss_jordan_update_with_condition(equations, soll):\n",
    "    n = len(equations)\n",
    "    matrix = [equations[i] + [soll[i]] for i in range(n)]  # Augmented matrix [A | b]\n",
    "\n",
    "    print(\"Initial Augmented Matrix:\")\n",
    "    print_matrix(matrix)\n",
    "\n",
    "    for index, eq in enumerate(equations):\n",
    "        k = eq.copy()  # Copy the row\n",
    "        k.pop(index)  # Remove the diagonal element\n",
    "\n",
    "        # Check if the diagonal element is greater than the sum of the rest of the row\n",
    "        if eq[index] > sum(k):\n",
    "            print(f\"Skipping Gauss-Jordan on row {index} as diagonal element is greater than sum of rest\")\n",
    "            continue\n",
    "\n",
    "        # Apply Gauss-Jordan elimination if the condition is not met\n",
    "        print(f\"Applying Gauss-Jordan to row {index}\")\n",
    "        pivot = matrix[index][index]\n",
    "\n",
    "        # Normalize the pivot row (divide by the diagonal element to make it 1)\n",
    "        for j in range(n + 1):  # Loop over all columns (including the solution part)\n",
    "            matrix[index][j] /= pivot\n",
    "\n",
    "        # Eliminate the column above and below the pivot\n",
    "        for i in range(n):\n",
    "            if i != index:\n",
    "                factor = matrix[i][index]\n",
    "                for j in range(n + 1):  # Loop over all columns (including the solution part)\n",
    "                    matrix[i][j] -= factor * matrix[index][j]\n",
    "\n",
    "    print(\"\\nFinal Augmented Matrix:\")\n",
    "    print_matrix(matrix)\n",
    "    print(\"\\n\")\n",
    "\n",
    "    # Extract the solution vector from the last column\n",
    "    solution = [matrix[i][n] for i in range(n)]\n",
    "\n",
    "    # Remove the last column to return the updated matrix without the solution part\n",
    "    updated_matrix = [row[:n] for row in matrix]\n",
    "\n",
    "    return solution, updated_matrix"
   ],
   "outputs": [],
   "execution_count": null
  },
  {
   "metadata": {},
   "cell_type": "markdown",
   "source": "# Lab 1"
  },
  {
   "metadata": {},
   "cell_type": "markdown",
   "source": "### Update value of X on every iteration"
  },
  {
   "metadata": {},
   "cell_type": "code",
   "source": [
    "def simple_iteration(equations, soll, tolerance=1e-6, max_iterations=20):\n",
    "    n = len(equations)\n",
    "    x = [0] * n\n",
    "\n",
    "    # Construct matrices A* and a*\n",
    "    A = [[0 if i == j else round(-equations[i][j] / equations[i][i], 4) for j in range(n)] for i in range(n)]\n",
    "    a = [round(soll[i] / equations[i][i], 4) for i in range(n)]\n",
    "\n",
    "    print(\"Matrix A*:\")\n",
    "    print_matrix(A)\n",
    "    print(\"Vector a*:\", [round(val, 4) for val in a])\n",
    "\n",
    "    for itr in range(max_iterations):\n",
    "        new_x = [0] * n\n",
    "        for i in range(n):\n",
    "            new_x[i] = round(a[i] + sum(A[i][j] * x[j] for j in range(n)), 4)\n",
    "\n",
    "        delta = round(max(abs(new_x[i] - x[i]) for i in range(n)), 4)\n",
    "\n",
    "        print(f\"Iteration {itr}: {new_x}, Δ = {delta}\")\n",
    "\n",
    "        if delta < tolerance:\n",
    "            print(\"Delta < tolerance!\")\n",
    "            return new_x\n",
    "\n",
    "        x = new_x\n",
    "\n",
    "    print(\"Reached to the maximum number of iterations.\")\n",
    "    return x"
   ],
   "outputs": [],
   "execution_count": null
  },
  {
   "metadata": {},
   "cell_type": "markdown",
   "source": "### Update value of X on every calculation"
  },
  {
   "metadata": {},
   "cell_type": "code",
   "source": [
    "def simple_iteration_with_updates(equations, soll, tolerance=1e-6, max_iterations=20):\n",
    "    n = len(equations)\n",
    "    x = [0] * n\n",
    "\n",
    "    # Construct matrices A* and a*\n",
    "    A = [[0 if i == j else round(-equations[i][j] / equations[i][i], 4) for j in range(n)] for i in range(n)]\n",
    "    a = [round(soll[i] / equations[i][i], 4) for i in range(n)]\n",
    "\n",
    "    print(\"Matrix A*:\")\n",
    "    print_matrix(A)\n",
    "    print(\"Vector a*:\", [round(val, 4) for val in a])\n",
    "\n",
    "    for itr in range(max_iterations):\n",
    "        new_x = x.copy()\n",
    "        for i in range(n):\n",
    "            new_x[i] = round(a[i] + sum(A[i][j] * new_x[j] for j in range(n)), 4)\n",
    "        delta = round(max(abs(new_x[i] - x[i]) for i in range(n)), 4)\n",
    "\n",
    "        print(f\"Iteration {itr }: {new_x}, Δ = {delta}\")\n",
    "\n",
    "        if delta < tolerance:\n",
    "            print(\"Delta < tolerance!\")\n",
    "            return new_x\n",
    "\n",
    "        x = new_x\n",
    "\n",
    "    print(\"Reached to the maximum number of iterations.\")\n",
    "    return x"
   ],
   "outputs": [],
   "execution_count": null
  },
  {
   "metadata": {},
   "cell_type": "markdown",
   "source": "# Lab 2"
  },
  {
   "metadata": {
    "ExecuteTime": {
     "end_time": "2025-03-08T08:36:48.150755Z",
     "start_time": "2025-03-08T08:36:48.134294Z"
    }
   },
   "cell_type": "code",
   "source": [
    "def simple_iterations_unobvious(equations, c_matrix, tao, soll, tolerance=1e-6, max_iterations=20):\n",
    "    a = soll\n",
    "    c_matrix = np.array(c_matrix)\n",
    "    equations = np.array(equations)\n",
    "    if not check_positive_defininte(equations) or not check_positive_defininte(c_matrix):\n",
    "        print(\"Matrix is not positive definite.\")\n",
    "        return\n",
    "    m = 2 * c_matrix - tao * equations\n",
    "    while not check_positive_defininte(m):\n",
    "        tao = round(np.random.rand(), 1)\n",
    "        m = 2 * c_matrix - tao * equations\n",
    "    tao_c_inv = np.dot(tao, np.linalg.inv(c_matrix))\n",
    "    ab = np.dot(tao_c_inv, equations)\n",
    "    cd = np.dot(tao_c_inv, a)\n",
    "    x = [0] * (len(equations))\n",
    "    I = np.eye(len(equations))\n",
    "    for itr in range(1, max_iterations+1):\n",
    "        new_x = x.copy()\n",
    "        new_x = np.round(np.dot(I-ab, x) + cd, 4)\n",
    "        delta = round(max(abs(new_x - x)), 4)\n",
    "        if (itr+1) % 1 == 0 or itr+1 == 1:\n",
    "            print(f\"Iteration {itr}: {new_x}, delta = {delta}\")\n",
    "        if delta < tolerance:\n",
    "            print(\"Delta < tolerance!\")\n",
    "            # print(f\"Iteration {itr + 1}: {new_x}, delta = {delta}\")\n",
    "            return new_x\n",
    "        x = new_x"
   ],
   "outputs": [],
   "execution_count": 13
  },
  {
   "metadata": {},
   "cell_type": "markdown",
   "source": "# Lab 3"
  },
  {
   "metadata": {},
   "cell_type": "markdown",
   "source": "### Modifikacvac"
  },
  {
   "metadata": {},
   "cell_type": "code",
   "source": [
    "def simple_iterations_mod(equations, c_matrix, tao, soll, tolerance=1e-4, max_iterations=20):\n",
    "    a = soll\n",
    "    n = len(equations)\n",
    "    d = np.diag(np.diag(equations))\n",
    "    equations = np.array(equations)\n",
    "    if not check_positive_defininte(equations):\n",
    "        print(\"Matrix is not positive definite.\")\n",
    "        return\n",
    "    d_inv = np.linalg.inv(d)\n",
    "    ab = np.dot(d_inv, equations)\n",
    "    cd = np.dot(d_inv, a)\n",
    "    x = [0] * (len(equations))\n",
    "    I = np.eye(len(equations))\n",
    "    for itr in range(1, max_iterations+1):\n",
    "        new_x = x.copy()\n",
    "        new_x = np.round(np.dot(I-ab, new_x) + cd, 4)\n",
    "        delta = round(max(abs(new_x - x)), 4)\n",
    "        if (itr+1) % 1 == 0 or itr+1 == 1:\n",
    "            print(f\"Iteration {itr}: {new_x}, delta = {delta}\")\n",
    "        if delta < tolerance:\n",
    "            print(\"Delta < tolerance!\")\n",
    "            print(f\"Iteration {itr}: {new_x}, delta = {delta}\")\n",
    "            return new_x\n",
    "        x = new_x"
   ],
   "outputs": [],
   "execution_count": null
  },
  {
   "metadata": {},
   "cell_type": "markdown",
   "source": "### Seidel"
  },
  {
   "metadata": {},
   "cell_type": "code",
   "source": [
    "def simple_iterations_seidel(equations, c_matrix, tao, soll, tolerance=1e-4, max_iterations=20):\n",
    "    a = soll\n",
    "    n = len(equations)\n",
    "    d = np.diag(np.diag(equations))\n",
    "    equations = np.array(equations)\n",
    "    if not check_positive_defininte(equations):\n",
    "        print(\"Matrix is not positive definite.\")\n",
    "        return\n",
    "    V = np.tril(equations, k=-1)\n",
    "    dV_inv = np.linalg.inv(d+V)\n",
    "    ab = np.dot(dV_inv, equations)\n",
    "    cd = np.dot(dV_inv, a)\n",
    "    x = [0] * (len(equations))\n",
    "    I = np.eye(len(equations))\n",
    "    for itr in range(1, max_iterations+1):\n",
    "        new_x = x.copy()\n",
    "        new_x = np.round(np.dot(I-ab, x) + cd, 4)\n",
    "        delta = round(max(abs(new_x - x)), 4)\n",
    "        if (itr+1) % 1 == 0 or itr+1 == 1:\n",
    "            print(f\"Iteration {itr}: {new_x}, delta = {delta}\")\n",
    "        if delta < tolerance:\n",
    "            print(\"Delta < tolerance!\")\n",
    "            print(f\"Iteration {itr }: {new_x}, delta = {delta}\")\n",
    "            return new_x\n",
    "        x = new_x"
   ],
   "outputs": [],
   "execution_count": null
  },
  {
   "metadata": {
    "ExecuteTime": {
     "end_time": "2025-03-08T08:38:27.148142Z",
     "start_time": "2025-03-08T08:38:27.114934Z"
    }
   },
   "cell_type": "code",
   "outputs": [
    {
     "name": "stdout",
     "output_type": "stream",
     "text": [
      "====================== Lab 1 ===============================================================\n",
      "Matrix A*:\n",
      "[0, -0.25, 0.25]\n",
      "[-0.5, 0, 0.0]\n",
      "[0.3333, 0.0, 0]\n",
      "Vector a*: [1.75, 0.0, -0.6667]\n",
      "Iteration 0: [1.75, 0.0, -0.6667], Δ = 1.75\n",
      "Iteration 1: [1.5833, -0.875, -0.0834], Δ = 0.875\n",
      "Iteration 2: [1.9479, -0.7916, -0.139], Δ = 0.3646\n",
      "Iteration 3: [1.9131, -0.9739, -0.0175], Δ = 0.1823\n",
      "Iteration 4: [1.9891, -0.9566, -0.0291], Δ = 0.076\n",
      "Iteration 5: [1.9819, -0.9946, -0.0037], Δ = 0.038\n",
      "Iteration 6: [1.9977, -0.9909, -0.0061], Δ = 0.0158\n",
      "Iteration 7: [1.9962, -0.9989, -0.0009], Δ = 0.008\n",
      "Iteration 8: [1.9995, -0.9981, -0.0014], Δ = 0.0033\n",
      "Iteration 9: [1.9992, -0.9998, -0.0003], Δ = 0.0017\n",
      "Iteration 10: [1.9999, -0.9996, -0.0004], Δ = 0.0007\n",
      "Iteration 11: [1.9998, -1.0, -0.0001], Δ = 0.0004\n",
      "Iteration 12: [2.0, -0.9999, -0.0002], Δ = 0.0002\n",
      "Iteration 13: [1.9999, -1.0, -0.0001], Δ = 0.0001\n",
      "Iteration 14: [2.0, -1.0, -0.0001], Δ = 0.0001\n",
      "Iteration 15: [2.0, -1.0, -0.0001], Δ = 0.0\n",
      "Delta < tolerance!\n",
      "Matrix A*:\n",
      "[0, -0.25, 0.25]\n",
      "[-0.5, 0, 0.0]\n",
      "[0.3333, 0.0, 0]\n",
      "Vector a*: [1.75, 0.0, -0.6667]\n",
      "Iteration 0: [1.75, -0.875, -0.0834], Δ = 1.75\n",
      "Iteration 1: [1.9479, -0.9739, -0.0175], Δ = 0.1979\n",
      "Iteration 2: [1.9891, -0.9946, -0.0037], Δ = 0.0412\n",
      "Iteration 3: [1.9977, -0.9989, -0.0009], Δ = 0.0086\n",
      "Iteration 4: [1.9995, -0.9998, -0.0003], Δ = 0.0018\n",
      "Iteration 5: [1.9999, -1.0, -0.0001], Δ = 0.0004\n",
      "Iteration 6: [2.0, -1.0, -0.0001], Δ = 0.0001\n",
      "Iteration 7: [2.0, -1.0, -0.0001], Δ = 0.0\n",
      "Delta < tolerance!\n",
      "====================== Lab 2 ===============================================================\n",
      "Eigenvalues: [4.87938524 1.46791111 2.65270364]\n",
      "Eigenvalues: [0.64142136 0.35857864 0.5       ]\n",
      "Eigenvalues: [0.33320713 0.9787759  0.78801697]\n",
      "Iteration 1: [ 1.6087 -0.3217 -0.7217], delta = 1.6087\n",
      "Iteration 2: [ 1.6095 -0.5149 -0.3671], delta = 0.3546\n",
      "Iteration 3: [ 1.7581 -0.6606 -0.2547], delta = 0.1486\n",
      "Iteration 4: [ 1.8356 -0.7635 -0.1658], delta = 0.1029\n",
      "Iteration 5: [ 1.89   -0.8361 -0.1101], delta = 0.0726\n",
      "Iteration 6: [ 1.926  -0.8869 -0.0732], delta = 0.0508\n",
      "Iteration 7: [ 1.9501 -0.9222 -0.0489], delta = 0.0353\n",
      "Iteration 8: [ 1.9663 -0.9466 -0.0328], delta = 0.0244\n",
      "Iteration 9: [ 1.9772 -0.9634 -0.022 ], delta = 0.0168\n",
      "Iteration 10: [ 1.9846 -0.975  -0.0148], delta = 0.0116\n",
      "Iteration 11: [ 1.9896 -0.9829 -0.01  ], delta = 0.0079\n",
      "Delta < tolerance!\n",
      "====================== Lab 3 ===============================================================\n",
      "-------------- Modifikacvac --------------\n",
      "Eigenvalues: [4.87938524 1.46791111 2.65270364]\n",
      "Iteration 1: [ 1.75    0.     -0.6667], delta = 1.75\n",
      "Iteration 2: [ 1.5833 -0.875  -0.0833], delta = 0.875\n",
      "Iteration 3: [ 1.9479 -0.7916 -0.1389], delta = 0.3646\n",
      "Iteration 4: [ 1.9132 -0.974  -0.0174], delta = 0.1824\n",
      "Iteration 5: [ 1.9892 -0.9566 -0.0289], delta = 0.076\n",
      "Iteration 6: [ 1.9819 -0.9946 -0.0036], delta = 0.038\n",
      "Iteration 7: [ 1.9978 -0.991  -0.006 ], delta = 0.0159\n",
      "Iteration 8: [ 1.9962e+00 -9.9890e-01 -7.0000e-04], delta = 0.0079\n",
      "Iteration 9: [ 1.9996e+00 -9.9810e-01 -1.3000e-03], delta = 0.0034\n",
      "Iteration 10: [ 1.9992e+00 -9.9980e-01 -1.0000e-04], delta = 0.0017\n",
      "Iteration 11: [ 1.9999e+00 -9.9960e-01 -3.0000e-04], delta = 0.0007\n",
      "Iteration 12: [ 1.9998 -1.     -0.    ], delta = 0.0004\n",
      "Iteration 13: [ 2.000e+00 -9.999e-01 -1.000e-04], delta = 0.0002\n",
      "Iteration 14: [ 2. -1.  0.], delta = 0.0001\n",
      "Iteration 15: [ 2. -1.  0.], delta = 0.0\n",
      "Delta < tolerance!\n",
      "Iteration 15: [ 2. -1.  0.], delta = 0.0\n",
      "-------------- Zeidel --------------\n",
      "Eigenvalues: [4.87938524 1.46791111 2.65270364]\n",
      "Iteration 1: [ 1.75   -0.875  -0.0833], delta = 1.75\n",
      "Iteration 2: [ 1.9479 -0.974  -0.0174], delta = 0.1979\n",
      "Iteration 3: [ 1.9892 -0.9946 -0.0036], delta = 0.0413\n",
      "Iteration 4: [ 1.9978e+00 -9.9890e-01 -8.0000e-04], delta = 0.0086\n",
      "Iteration 5: [ 1.9995e+00 -9.9980e-01 -2.0000e-04], delta = 0.0017\n",
      "Iteration 6: [ 1.9999 -1.     -0.    ], delta = 0.0004\n",
      "Iteration 7: [ 2. -1. -0.], delta = 0.0001\n",
      "Iteration 8: [ 2. -1. -0.], delta = 0.0\n",
      "Delta < tolerance!\n",
      "Iteration 8: [ 2. -1. -0.], delta = 0.0\n"
     ]
    }
   ],
   "execution_count": 16,
   "source": [
    "equations = [[4, 1, -1],\n",
    "             [1, 2, 0],\n",
    "             [-1, 0, 3]]\n",
    "\n",
    "c_matrix = [[0.5, 0.1, 0.1],\n",
    "            [0.1, 0.5, 0],\n",
    "            [0.1, 0, 0.5]]\n",
    "\n",
    "soll = [7, 0, -2]\n",
    "\n",
    "tao = round(np.random.rand(), 1)\n",
    "tao = 0.1\n",
    "# soll, equations = gauss_jordan_update_with_condition(equations, soll)\n",
    "print(\"====================== Lab 1 ===============================================================\")\n",
    "a = simple_iteration(equations, soll)\n",
    "b = simple_iteration_with_updates(equations, soll)\n",
    "print(\"====================== Lab 2 ===============================================================\")\n",
    "a = simple_iterations_unobvious(equations, c_matrix, tao, soll, tolerance=1e-2)\n",
    "print(\"====================== Lab 3 ===============================================================\")\n",
    "tao = 1\n",
    "print(\"-------------- Modifikacvac --------------\")\n",
    "a = simple_iterations_mod(equations, c_matrix, tao, soll)\n",
    "print(\"-------------- Zeidel --------------\")\n",
    "a = simple_iterations_seidel(equations, c_matrix, tao, soll)\n"
   ]
  },
  {
   "metadata": {
    "ExecuteTime": {
     "end_time": "2025-03-08T09:04:50.877089Z",
     "start_time": "2025-03-08T09:04:50.869237Z"
    }
   },
   "cell_type": "code",
   "source": [
    "def simple_iterations_min_square(equations, soll, tolerance=1e-6, max_iterations=25, x=[0, 0, 0]):\n",
    "    equations = np.array(equations)\n",
    "    AT = np.dot(np.transpose(equations), equations)\n",
    "    d = np.diag(np.diag(AT))\n",
    "    V = np.tril(AT, k=-1)\n",
    "    dV_inv = np.linalg.inv(d+V)\n",
    "    I = np.eye(len(equations))\n",
    "    cd = np.dot(dV_inv, np.dot(np.transpose(equations), soll))\n",
    "    print(cd)\n",
    "    for itr in range(1, max_iterations+1):\n",
    "        new_x = x.copy()\n",
    "        new_x = np.round(np.dot(I-np.dot(dV_inv, AT), x)+ cd, 4)\n",
    "        delta = round(max(abs(new_x - x)), 4)\n",
    "        if (itr) % 5 == 0 or itr == 1:\n",
    "            print(f\"Iteration {itr}: {new_x}, delta = {delta}\")\n",
    "        if delta < tolerance:\n",
    "            print(\"Delta < tolerance!\")\n",
    "            print(f\"Iteration {itr }: {new_x}, delta = {delta}\")\n",
    "            return new_x\n",
    "        x = new_x\n",
    "    return x"
   ],
   "outputs": [],
   "execution_count": 89
  },
  {
   "metadata": {
    "ExecuteTime": {
     "end_time": "2025-03-08T09:05:17.351154Z",
     "start_time": "2025-03-08T09:05:17.341308Z"
    }
   },
   "cell_type": "code",
   "source": [
    "equations = [[0, 1, 3],\n",
    "             [5, -1, 1],\n",
    "             [2, -2, 2]]\n",
    "\n",
    "soll = [0, 0, 1]\n",
    "simple_iterations_min_square(equations, soll, x=[-10, -10, 10])"
   ],
   "outputs": [
    {
     "name": "stdout",
     "output_type": "stream",
     "text": [
      "[ 0.06896552 -0.22988506  0.06568144]\n",
      "Iteration 1: [-6.1379 -6.2069  3.202 ], delta = 6.798\n",
      "Iteration 5: [-0.4858 -0.8999  0.3266], delta = 0.4012\n",
      "Iteration 10: [-0.1384 -0.4848  0.1626], delta = 0.0149\n",
      "Iteration 15: [-0.1255 -0.4693  0.1565], delta = 0.0006\n",
      "Iteration 20: [-0.125  -0.4688  0.1563], delta = 0.0\n",
      "Delta < tolerance!\n",
      "Iteration 20: [-0.125  -0.4688  0.1563], delta = 0.0\n"
     ]
    },
    {
     "data": {
      "text/plain": [
       "array([-0.125 , -0.4688,  0.1563])"
      ]
     },
     "execution_count": 91,
     "metadata": {},
     "output_type": "execute_result"
    }
   ],
   "execution_count": 91
  },
  {
   "metadata": {
    "ExecuteTime": {
     "end_time": "2025-03-08T09:05:21.411059Z",
     "start_time": "2025-03-08T09:05:21.391949Z"
    }
   },
   "cell_type": "code",
   "source": [
    "equations = [[2.7, 3.3, 1.3],\n",
    "             [3.5, -1.7, 2.8],\n",
    "             [4.1, 5.8, -1.7]]\n",
    "soll = [2.1, 1.7, 0.8]\n",
    "simple_iterations_min_square(equations, soll, tolerance=1e-6, max_iterations=100)\n"
   ],
   "outputs": [
    {
     "name": "stdout",
     "output_type": "stream",
     "text": [
      "[ 0.40990371 -0.04809838  0.24431193]\n",
      "Iteration 1: [ 0.4099 -0.0481  0.2443], delta = 0.4099\n",
      "Iteration 5: [0.2771 0.115  0.4477], delta = 0.043\n",
      "Iteration 10: [0.1637 0.2144 0.5883], delta = 0.0204\n",
      "Iteration 15: [0.1099 0.2617 0.6551], delta = 0.0097\n",
      "Iteration 20: [0.0843 0.2842 0.6869], delta = 0.0046\n",
      "Iteration 25: [0.0721 0.2948 0.702 ], delta = 0.0022\n",
      "Iteration 30: [0.0663 0.2999 0.7092], delta = 0.0011\n",
      "Iteration 35: [0.0635 0.3023 0.7126], delta = 0.0005\n",
      "Iteration 40: [0.0623 0.3034 0.7142], delta = 0.0003\n",
      "Iteration 45: [0.0617 0.304  0.7149], delta = 0.0001\n",
      "Iteration 50: [0.0614 0.3043 0.7153], delta = 0.0001\n",
      "Delta < tolerance!\n",
      "Iteration 52: [0.0613 0.3043 0.7154], delta = 0.0\n"
     ]
    },
    {
     "data": {
      "text/plain": [
       "array([0.0613, 0.3043, 0.7154])"
      ]
     },
     "execution_count": 92,
     "metadata": {},
     "output_type": "execute_result"
    }
   ],
   "execution_count": 92
  },
  {
   "metadata": {
    "ExecuteTime": {
     "end_time": "2025-03-08T09:05:33.803034Z",
     "start_time": "2025-03-08T09:05:33.779885Z"
    }
   },
   "cell_type": "code",
   "source": [
    "equations = [[1.7, 2.8, 1.9],\n",
    "             [2.1, 3.4, 1.8],\n",
    "             [4.2, -1.7, 1.3]]\n",
    "soll = [0.7, 1.1, 2.8]\n",
    "simple_iterations_min_square(equations, soll, tolerance=1e-6, max_iterations=1000)"
   ],
   "outputs": [
    {
     "name": "stdout",
     "output_type": "stream",
     "text": [
      "[ 0.61186848 -0.08849233  0.01601688]\n",
      "Iteration 1: [ 0.6119 -0.0885  0.016 ], delta = 0.6119\n",
      "Iteration 5: [ 0.6299 -0.0923 -0.0061], delta = 0.0061\n",
      "Iteration 10: [ 0.6429 -0.0828 -0.0354], delta = 0.0057\n",
      "Iteration 15: [ 0.655  -0.0739 -0.0627], delta = 0.0053\n",
      "Iteration 20: [ 0.6663 -0.0657 -0.088 ], delta = 0.0049\n",
      "Iteration 25: [ 0.6768 -0.058  -0.1118], delta = 0.0046\n",
      "Iteration 30: [ 0.6867 -0.0508 -0.134 ], delta = 0.0043\n",
      "Iteration 35: [ 0.6958 -0.0441 -0.1546], delta = 0.004\n",
      "Iteration 40: [ 0.7044 -0.0378 -0.1738], delta = 0.0037\n",
      "Iteration 45: [ 0.7123 -0.032  -0.1917], delta = 0.0035\n",
      "Iteration 50: [ 0.7197 -0.0266 -0.2083], delta = 0.0032\n",
      "Iteration 55: [ 0.7266 -0.0215 -0.2239], delta = 0.003\n",
      "Iteration 60: [ 0.733  -0.0168 -0.2384], delta = 0.0028\n",
      "Iteration 65: [ 0.7391 -0.0124 -0.2519], delta = 0.0026\n",
      "Iteration 70: [ 0.7446 -0.0084 -0.2644], delta = 0.0024\n",
      "Iteration 75: [ 0.7498 -0.0046 -0.2761], delta = 0.0023\n",
      "Iteration 80: [ 0.7546 -0.001  -0.2869], delta = 0.0021\n",
      "Iteration 85: [ 0.7591  0.0023 -0.2971], delta = 0.002\n",
      "Iteration 90: [ 0.7633  0.0053 -0.3065], delta = 0.0018\n",
      "Iteration 95: [ 0.7672  0.0082 -0.3153], delta = 0.0017\n",
      "Iteration 100: [ 0.7709  0.0109 -0.3235], delta = 0.0016\n",
      "Iteration 105: [ 0.7742  0.0133 -0.3311], delta = 0.0015\n",
      "Iteration 110: [ 0.7774  0.0156 -0.3382], delta = 0.0014\n",
      "Iteration 115: [ 0.7803  0.0178 -0.3448], delta = 0.0013\n",
      "Iteration 120: [ 0.7831  0.0198 -0.351 ], delta = 0.0012\n",
      "Iteration 125: [ 0.7856  0.0217 -0.3567], delta = 0.0011\n",
      "Iteration 130: [ 0.788   0.0234 -0.3621], delta = 0.001\n",
      "Iteration 135: [ 0.7902  0.025  -0.3671], delta = 0.001\n",
      "Iteration 140: [ 0.7923  0.0266 -0.3718], delta = 0.0009\n",
      "Iteration 145: [ 0.7943  0.028  -0.3762], delta = 0.0008\n",
      "Iteration 150: [ 0.796   0.0293 -0.3802], delta = 0.0008\n",
      "Iteration 155: [ 0.7977  0.0305 -0.384 ], delta = 0.0007\n",
      "Iteration 160: [ 0.7993  0.0317 -0.3875], delta = 0.0007\n",
      "Iteration 165: [ 0.8008  0.0328 -0.3909], delta = 0.0006\n",
      "Iteration 170: [ 0.8021  0.0337 -0.3939], delta = 0.0006\n",
      "Iteration 175: [ 0.8034  0.0347 -0.3969], delta = 0.0006\n",
      "Iteration 180: [ 0.8046  0.0355 -0.3994], delta = 0.0005\n",
      "Iteration 185: [ 0.8057  0.0363 -0.4019], delta = 0.0005\n",
      "Iteration 190: [ 0.8067  0.0371 -0.4041], delta = 0.0004\n",
      "Iteration 195: [ 0.8075  0.0377 -0.4061], delta = 0.0004\n",
      "Iteration 200: [ 0.8084  0.0384 -0.4081], delta = 0.0004\n",
      "Iteration 205: [ 0.8093  0.039  -0.4101], delta = 0.0004\n",
      "Iteration 210: [ 0.8101  0.0396 -0.4118], delta = 0.0003\n",
      "Iteration 215: [ 0.8107  0.0401 -0.4133], delta = 0.0003\n",
      "Iteration 220: [ 0.8114  0.0405 -0.4148], delta = 0.0003\n",
      "Iteration 225: [ 0.8121  0.041  -0.4163], delta = 0.0003\n",
      "Iteration 230: [ 0.8127  0.0415 -0.4178], delta = 0.0003\n",
      "Iteration 235: [ 0.8132  0.0419 -0.4188], delta = 0.0002\n",
      "Iteration 240: [ 0.8136  0.0422 -0.4198], delta = 0.0002\n",
      "Iteration 245: [ 0.8141  0.0425 -0.4208], delta = 0.0002\n",
      "Iteration 250: [ 0.8145  0.0428 -0.4218], delta = 0.0002\n",
      "Iteration 255: [ 0.8149  0.0431 -0.4228], delta = 0.0002\n",
      "Iteration 260: [ 0.8154  0.0435 -0.4238], delta = 0.0002\n",
      "Iteration 265: [ 0.8158  0.0438 -0.4248], delta = 0.0002\n",
      "Iteration 270: [ 0.8161  0.044  -0.4254], delta = 0.0001\n",
      "Iteration 275: [ 0.8164  0.0442 -0.4259], delta = 0.0001\n",
      "Iteration 280: [ 0.8166  0.0443 -0.4264], delta = 0.0001\n",
      "Iteration 285: [ 0.8168  0.0445 -0.4269], delta = 0.0001\n",
      "Iteration 290: [ 0.817   0.0446 -0.4274], delta = 0.0001\n",
      "Iteration 295: [ 0.8172  0.0448 -0.4279], delta = 0.0001\n",
      "Iteration 300: [ 0.8174  0.045  -0.4284], delta = 0.0001\n",
      "Iteration 305: [ 0.8177  0.0451 -0.4289], delta = 0.0001\n",
      "Iteration 310: [ 0.8179  0.0453 -0.4294], delta = 0.0001\n",
      "Iteration 315: [ 0.8181  0.0454 -0.4299], delta = 0.0001\n",
      "Iteration 320: [ 0.8183  0.0456 -0.4304], delta = 0.0001\n",
      "Iteration 325: [ 0.8185  0.0458 -0.4309], delta = 0.0001\n",
      "Delta < tolerance!\n",
      "Iteration 329: [ 0.8187  0.0459 -0.4312], delta = 0.0\n"
     ]
    },
    {
     "data": {
      "text/plain": [
       "array([ 0.8187,  0.0459, -0.4312])"
      ]
     },
     "execution_count": 94,
     "metadata": {},
     "output_type": "execute_result"
    }
   ],
   "execution_count": 94
  },
  {
   "cell_type": "code",
   "metadata": {},
   "source": [
    "equations = [[3.1, 2.8, 1.9],\n",
    "             [1.9, 3.1, 2.1],\n",
    "             [7.5, 3.8, 4.8]]\n",
    "soll = [0.2, 2.1, 5.6]\n",
    "soll, equations = gauss_jordan_update_with_condition(equations, soll)\n",
    "\n",
    "print(\"Iterate and update x after every iteration\")\n",
    "solution = simple_iteration(equations, soll, tolerance=0.001)\n",
    "print(\"\\nFinal solution:\", [round(val, 4) for val in solution])\n",
    "print(\"\\n------------------------------------\\n\")\n",
    "print(\"Iterate and update x after every calculation\")\n",
    "solution = simple_iteration_with_updates(equations, soll, tolerance=0.001)\n",
    "print(\"\\nFinal solution:\", [round(val, 4) for val in solution])\n",
    "print(\"\\n------------------------------------\\n\")\n",
    "c_matrix = [[0.5, 0.1, 0.1],\n",
    "            [0.1, 0.5, 0],\n",
    "            [0.1, 0, 0.5]]\n",
    "tao = round(np.random.rand(), 1)\n",
    "a = simple_iterations_unobvious(equations, c_matrix, tao, soll)"
   ],
   "outputs": [],
   "execution_count": null
  },
  {
   "cell_type": "code",
   "metadata": {},
   "source": [
    "equations = [[9.1, 5.6, 7.8],\n",
    "             [3.8, 5.1, 2.8],\n",
    "             [4.1, 5.7, 1.2]]\n",
    "soll = [9.8, 6.7, 5.8]\n",
    "soll, equations = gauss_jordan_update_with_condition(equations, soll)\n",
    "\n",
    "print(\"Iterate and update x after every iteration\")\n",
    "solution = simple_iteration(equations, soll, tolerance=0.001)\n",
    "print(\"\\nFinal solution:\", [round(val, 4) for val in solution])\n",
    "print(\"\\n------------------------------------\\n\")\n",
    "print(\"Iterate and update x after every calculation\")\n",
    "solution = simple_iteration_with_updates(equations, soll, tolerance=0.001)\n",
    "print(\"\\nFinal solution:\", [round(val, 4) for val in solution])\n",
    "print(\"\\n------------------------------------\\n\")\n",
    "c_matrix = [[0.5, 0.1, 0.1],\n",
    "            [0.1, 0.5, 0],\n",
    "            [0.1, 0, 0.5]]\n",
    "tao = round(np.random.rand(), 1)\n",
    "a = simple_iterations_unobvious(equations, c_matrix, tao, soll)"
   ],
   "outputs": [],
   "execution_count": null
  },
  {
   "cell_type": "code",
   "metadata": {},
   "source": [
    "equations = [[5.4, -2.3, 3.4],\n",
    "             [4.2, 1.7, -2.3],\n",
    "             [3.4, 2.4, 7.4]]\n",
    "soll = [-3.5, 2.7, 1.9]\n",
    "soll, equations = gauss_jordan_update_with_condition(equations, soll)\n",
    "\n",
    "print(\"Iterate and update x after every iteration\")\n",
    "solution = simple_iteration(equations, soll, tolerance=0.001)\n",
    "print(\"\\nFinal solution:\", [round(val, 4) for val in solution])\n",
    "print(\"\\n------------------------------------\\n\")\n",
    "print(\"Iterate and update x after every calculation\")\n",
    "solution = simple_iteration_with_updates(equations, soll, tolerance=0.001)\n",
    "print(\"\\nFinal solution:\", [round(val, 4) for val in solution])\n",
    "print(\"\\n------------------------------------\\n\")\n",
    "c_matrix = [[0.5, 0.1, 0.1],\n",
    "            [0.1, 0.5, 0],\n",
    "            [0.1, 0, 0.5]]\n",
    "tao = round(np.random.rand(), 1)\n",
    "a = simple_iterations_unobvious(equations, c_matrix, tao, soll)"
   ],
   "outputs": [],
   "execution_count": null
  },
  {
   "cell_type": "code",
   "metadata": {},
   "source": [
    "equations = [[2.7, 0.9, -1.5],\n",
    "             [4.5, -2.8, 6.7],\n",
    "             [5.1, 3.7, -1.4]]\n",
    "soll = [3.5, 2.6, -0.14]\n",
    "soll, equations = gauss_jordan_update_with_condition(equations, soll)\n",
    "\n",
    "print(\"Iterate and update x after every iteration\")\n",
    "solution = simple_iteration(equations, soll, tolerance=0.001)\n",
    "print(\"\\nFinal solution:\", [round(val, 4) for val in solution])\n",
    "print(\"\\n------------------------------------\\n\")\n",
    "print(\"Iterate and update x after every calculation\")\n",
    "solution = simple_iteration_with_updates(equations, soll, tolerance=0.001)\n",
    "print(\"\\nFinal solution:\", [round(val, 4) for val in solution])\n",
    "print(\"\\n------------------------------------\\n\")\n",
    "c_matrix = [[0.5, 0.1, 0.1],\n",
    "            [0.1, 0.5, 0],\n",
    "            [0.1, 0, 0.5]]\n",
    "tao = round(np.random.rand(), 1)\n",
    "a = simple_iterations_unobvious(equations, c_matrix, tao, soll)"
   ],
   "outputs": [],
   "execution_count": null
  },
  {
   "cell_type": "code",
   "metadata": {},
   "source": [
    "equations = [[4, 1, -1],\n",
    "             [1, 2, 0],\n",
    "             [-1, 0, 3]]\n",
    "\n",
    "c_matrix = [[0.5, 0.1, 0.1],\n",
    "            [0.1, 0.5, 0],\n",
    "            [0.1, 0, 0.5]]\n",
    "\n",
    "tao = round(np.random.rand(), 1)\n",
    "tao = 0.1\n",
    "soll = [7, 0, -2]\n",
    "a = simple_iterations_unobvious(equations, c_matrix, tao, soll)"
   ],
   "outputs": [],
   "execution_count": null
  },
  {
   "metadata": {},
   "cell_type": "code",
   "source": [
    "equations = [[1.7, 2.8, 1.9],\n",
    "             [2.1, 3.4, 1.8],\n",
    "             [4.2, -1.7, 1.3]]\n",
    "soll = [0.7, 1.1, 2.8]\n",
    "soll, equations = gauss_jordan_update_with_condition(equations, soll)\n",
    "\n",
    "print(\"Iterate and update x after every iteration\")\n",
    "solution = simple_iteration(equations, soll, tolerance=0.001)\n",
    "print(\"\\nFinal solution:\", [round(val, 4) for val in solution])\n",
    "print(\"\\n------------------------------------\\n\")\n",
    "print(\"Iterate and update x after every calculation\")\n",
    "solution = simple_iteration_with_updates(equations, soll, tolerance=0.001)\n",
    "print(\"\\nFinal solution:\", [round(val, 4) for val in solution])\n",
    "print(\"\\n------------------------------------\\n\")\n",
    "\n",
    "tao = round(np.random.rand(), 1)\n",
    "a = simple_iterations_unobvious(equations, c_matrix, tao, soll)"
   ],
   "outputs": [],
   "execution_count": null
  },
  {
   "metadata": {},
   "cell_type": "code",
   "source": [
    "equations = [[3.6, 1.8, -4.7],\n",
    "             [2.7, -3.6, 1.9],\n",
    "             [1.5, 4.5, 3.3]]\n",
    "soll = [3.8, 0.4, -1.6]\n",
    "# soll, equations = gauss_jordan_update_with_condition(equations, soll)\n",
    "\n",
    "print(\"Iterate and update x after every iteration\")\n",
    "solution = simple_iteration(equations, soll, tolerance=0.001)\n",
    "print(\"\\nFinal solution:\", [round(val, 4) for val in solution])\n",
    "print(\"\\n------------------------------------\\n\")\n",
    "print(\"Iterate and update x after every calculation\")\n",
    "solution = simple_iteration_with_updates(equations, soll, tolerance=0.001)\n",
    "print(\"\\nFinal solution:\", [round(val, 4) for val in solution])\n",
    "print(\"\\n------------------------------------\\n\")\n",
    "\n",
    "tao = round(np.random.rand(), 1)\n",
    "a = simple_iterations_unobvious(equations, c_matrix, tao, soll)"
   ],
   "outputs": [],
   "execution_count": null
  },
  {
   "metadata": {},
   "cell_type": "code",
   "source": [
    "equations = [[3.8, 4.1, -2.3],\n",
    "             [-2.1, 3.9, -5.8],\n",
    "             [1.8, 1.1, -2.1]]\n",
    "soll = [4.8, 3.3, 5.8]\n",
    "# soll, equations = gauss_jordan_update_with_condition(equations, soll)\n",
    "\n",
    "print(\"Iterate and update x after every iteration\")\n",
    "solution = simple_iteration(equations, soll, tolerance=0.001)\n",
    "print(\"\\nFinal solution:\", [round(val, 4) for val in solution])\n",
    "print(\"\\n------------------------------------\\n\")\n",
    "print(\"Iterate and update x after every calculation\")\n",
    "solution = simple_iteration_with_updates(equations, soll, tolerance=0.001)\n",
    "print(\"\\nFinal solution:\", [round(val, 4) for val in solution])\n",
    "print(\"\\n------------------------------------\\n\")\n",
    "\n",
    "tao = round(np.random.rand(), 1)\n",
    "a = simple_iterations_unobvious(equations, c_matrix, tao, soll)"
   ],
   "outputs": [],
   "execution_count": null
  }
 ],
 "metadata": {
  "kernelspec": {
   "display_name": ".venv",
   "language": "python",
   "name": "python3"
  },
  "language_info": {
   "codemirror_mode": {
    "name": "ipython",
    "version": 3
   },
   "file_extension": ".py",
   "mimetype": "text/x-python",
   "name": "python",
   "nbconvert_exporter": "python",
   "pygments_lexer": "ipython3",
   "version": "3.11.9"
  }
 },
 "nbformat": 4,
 "nbformat_minor": 4
}
